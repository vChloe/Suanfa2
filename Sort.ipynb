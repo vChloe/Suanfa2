{
 "cells": [
  {
   "cell_type": "code",
   "execution_count": 1,
   "metadata": {},
   "outputs": [],
   "source": [
    "import numpy as np"
   ]
  },
  {
   "cell_type": "code",
   "execution_count": 2,
   "metadata": {},
   "outputs": [
    {
     "name": "stdout",
     "output_type": "stream",
     "text": [
      "OriginalArray:\n",
      " [57 25  4 33 88 92 50 57 63 24 13 11 88 27 49 74 69 38  2  2 63 24 29 67\n",
      " 20 36 75 57 68 24 11 90 91 59 66 51 61 56 94  1 58 26 21 41  6 29  9 93\n",
      "  9  0  1  4 22 52 97 62 58 47  9  0 45 18 27  0 70 47 59 52  8 26 21 28\n",
      " 66 97 71 75 74 97 71 60 79 69  4  4 87 25 29 17 65 48  7 45 48 54 28 54\n",
      " 87 39 47 32] \n",
      "\n",
      "CountingSort:\n",
      " [ 0  0  0  1  1  2  2  4  4  4  4  6  7  8  9  9  9 11 11 13 17 18 20 21\n",
      " 21 22 24 24 24 25 25 26 26 27 27 28 28 29 29 29 32 33 36 38 39 41 45 45\n",
      " 47 47 47 48 48 49 50 51 52 52 54 54 56 57 57 57 58 58 59 59 60 61 62 63\n",
      " 63 65 66 66 67 68 69 69 70 71 71 74 74 75 75 79 87 87 88 88 90 91 92 93\n",
      " 94 97 97 97] \n",
      "\n"
     ]
    }
   ],
   "source": [
    "def CountingSort(A,k):\n",
    "    B = np.zeros(len(A) + 1,dtype = np.int)\n",
    "    C = np.zeros(k + 1,dtype = np.int)\n",
    "    for i in np.arange(len(A)):\n",
    "        for j in np.arange(i + 1,len(A)):\n",
    "            if A[i] <= A[j]:\n",
    "                C[j] += 1\n",
    "            else:\n",
    "                C[i] += 1\n",
    "    for i in np.arange(len(A)):\n",
    "        B[C[i]] = A[i]\n",
    "    return B[:len(B)-1]\n",
    "\n",
    "k = 100\n",
    "limit = 100\n",
    "A = np.random.randint(0,limit,k)\n",
    "print('OriginalArray:\\n',A,'\\n')\n",
    "B = CountingSort(A,k)\n",
    "print('CountingSort:\\n',B,'\\n')\n"
   ]
  },
  {
   "cell_type": "code",
   "execution_count": 3,
   "metadata": {},
   "outputs": [
    {
     "name": "stdout",
     "output_type": "stream",
     "text": [
      "OriginalArray:\n",
      " [30 44 41  9 78 69 16 10 70 29 34 51 61 77  7 84 65 62 67 58 62 33 54 68\n",
      "  6 40 37 78  3 16 43 56 73  7 77 27 13 86 88 68 31 46 68 68 71 37 88 81\n",
      " 75 84 62 50 53 74 64 92 51 99 18 91 87  3 54 65  3  9  3 59 54 23 29 15\n",
      " 34 58 53 51 18 60 56 11 28  0 53  2 99 75 74 90 91 70 27 13 40 32  1  1\n",
      " 27 86 53 14] \n",
      "\n",
      "DistributionCountingSort:\n",
      " [ 0  1  1  2  3  3  3  3  6  7  7  9  9 10 11 13 13 14 15 16 16 18 18 23\n",
      " 27 27 27 28 29 29 30 31 32 33 34 34 37 37 40 40 41 43 44 46 50 51 51 51\n",
      " 53 53 53 53 54 54 54 56 56 58 58 59 60 61 62 62 62 64 65 65 67 68 68 68\n",
      " 68 69 70 70 71 73 74 74 75 75 77 77 78 78 81 84 84 86 86 87 88 88 90 91\n",
      " 91 92 99 99] \n",
      "\n"
     ]
    }
   ],
   "source": [
    "def DistributionCountingSort(A,k):\n",
    "    B = np.zeros(len(A) + 1,dtype = np.int)\n",
    "    C = np.zeros(k + 1,dtype = np.int)\n",
    "    for i in np.arange(len(A)):\n",
    "        C[A[i]] = C[A[i]] + 1\n",
    "    for i in np.arange(1,k + 1):\n",
    "        C[i] += C[i - 1]\n",
    "    for i in np.arange(len(A) - 1,-1,-1):\n",
    "        B[C[A[i]]] = A[i]\n",
    "        C[A[i]] = C[A[i]] - 1\n",
    "    return B[1:]\n",
    "\n",
    "k = 100\n",
    "limit = 100\n",
    "A = np.random.randint(0,limit,k)\n",
    "print('OriginalArray:\\n',A,'\\n')\n",
    "B = DistributionCountingSort(A,k)\n",
    "print('DistributionCountingSort:\\n',B,'\\n')"
   ]
  },
  {
   "cell_type": "code",
   "execution_count": 4,
   "metadata": {
    "scrolled": true
   },
   "outputs": [
    {
     "name": "stdout",
     "output_type": "stream",
     "text": [
      "OriginalArray:\n",
      " [ 8 73 47 88  6 35 91 96 35  5 88 12  2 87 86 16 90 76 70 98 95 59 29 61\n",
      "  6 79 99 78 72 13 88 75 32 75 32 32  5 18 19 43 21 77 88 56 88 83 14  7\n",
      " 31 39 68  2 30 66 26 27 83 62 59 19 26 40 53  5 88 61 68 80 42 55 38 24\n",
      "  2 65 72  5 39 81 80 63 42 19 96 62 99  2  5 56 68 99 89  8  9 37 33 88\n",
      " 83 34 36 79] \n",
      "\n",
      "StraightInsertionSort:\n",
      " [ 2  2  2  2  5  5  5  5  5  6  6  7  8  8  9 12 13 14 16 18 19 19 19 21\n",
      " 24 26 26 27 29 30 31 32 32 32 33 34 35 35 36 37 38 39 39 40 42 42 43 47\n",
      " 53 55 56 56 59 59 61 61 62 62 63 65 66 68 68 68 70 72 72 73 75 75 76 77\n",
      " 78 79 79 80 80 81 83 83 83 86 87 88 88 88 88 88 88 88 89 90 91 95 96 96\n",
      " 98 99 99 99] \n",
      "\n"
     ]
    }
   ],
   "source": [
    "def StraightInsertionSort(A):\n",
    "    for i in np.arange(1,len(A)):\n",
    "        x = A[i]\n",
    "        for j in np.arange(i,-1,-1):\n",
    "            if(x < A[j-1]):\n",
    "                A[j] = A[j-1]\n",
    "            else:\n",
    "                break\n",
    "        A[j] = x\n",
    "    return A\n",
    "\n",
    "A = np.random.randint(0,100,100)\n",
    "print('OriginalArray:\\n',A,'\\n')\n",
    "B = StraightInsertionSort(A)\n",
    "print('StraightInsertionSort:\\n',B,'\\n')"
   ]
  },
  {
   "cell_type": "code",
   "execution_count": 5,
   "metadata": {},
   "outputs": [
    {
     "name": "stdout",
     "output_type": "stream",
     "text": [
      "OriginalArray:\n",
      " [44 23 60 78 95 27 20 65 92 40  4 70 31 72 49 87 53 60  0 63 64  3 60 45\n",
      " 99 34 36 72  9 99 53 39 98 43 89 93 43 36 86 69 36 59 78  6 66 11 18 94\n",
      " 59 13 47 38 80 75 28 54 73 42 54 80 78 82 81 71 84 44 42 15  0 81  2 48\n",
      " 43 68 81 52 14 75 53  1 91 75 77 36 13 14 98 48  0 58 20 91  0 59 54 79\n",
      " 61 86 36  4] \n",
      "\n",
      "BinaryInsertionSort:\n",
      " [ 0  0  0  0  1  2  3  4  4  6  9 11 13 13 14 14 15 18 20 20 23 27 28 31\n",
      " 34 36 36 36 36 36 38 39 40 42 42 43 43 43 44 44 45 47 48 48 49 52 53 53\n",
      " 53 54 54 54 58 59 59 59 60 60 60 61 63 64 65 66 68 69 70 71 72 72 73 75\n",
      " 75 75 77 78 78 78 79 80 80 81 81 81 82 84 86 86 87 89 91 91 92 93 94 95\n",
      " 98 98 99 99] \n",
      "\n"
     ]
    }
   ],
   "source": [
    "def BinaryInsertionSort(A):\n",
    "    for i in np.arange(1,len(A)):\n",
    "        x = A[i]\n",
    "        low = 0\n",
    "        high = i-1\n",
    "        while(low <= high):\n",
    "            mid = (low + high) // 2\n",
    "            if(x > A[mid]):\n",
    "                low = mid + 1\n",
    "            else:\n",
    "                high = mid - 1\n",
    "        for j in np.arange(i,low,-1):\n",
    "            A[j] = A[j-1]\n",
    "        A[low] = x\n",
    "    return A\n",
    "\n",
    "A = np.random.randint(0,100,100)\n",
    "print('OriginalArray:\\n',A,'\\n')\n",
    "B = BinaryInsertionSort(A)\n",
    "print('BinaryInsertionSort:\\n',B,'\\n')"
   ]
  },
  {
   "cell_type": "code",
   "execution_count": 6,
   "metadata": {},
   "outputs": [
    {
     "name": "stdout",
     "output_type": "stream",
     "text": [
      "OriginalArray:\n",
      " [35 68 34 48 25 30 11 94 43 89 41 67 25  8 64 49 59 37 66 28 26 84 47 87\n",
      " 80 69 53 32 21 61 54 87 20 43 77 19 34 37 79 25 68  5 47 18 25 24 25 16\n",
      " 23  3 52 29 82 84 16 90 60 79 21 38 40 70 11 30 19 11 52 82 42 93 97 62\n",
      " 98 65  6 74 78 77 11 63 30 94 94 95 11 84 69 60 63 94 66 51 75 58  7 65\n",
      " 82 81 53 47] \n",
      "\n",
      "ShellSort:\n",
      " [ 3  5  6  7  8 11 11 11 11 11 16 16 18 19 19 20 21 21 23 24 25 25 25 25\n",
      " 25 26 28 29 30 30 30 32 34 34 35 37 37 38 40 41 42 43 43 47 47 47 48 49\n",
      " 51 52 52 53 53 54 58 59 60 60 61 62 63 63 64 65 65 66 66 67 68 68 69 69\n",
      " 70 74 75 77 77 78 79 79 80 81 82 82 82 84 84 84 87 87 89 90 93 94 94 94\n",
      " 94 95 97 98] \n",
      "\n"
     ]
    }
   ],
   "source": [
    "def ShellSort(A):\n",
    "    step = len(A) // 2\n",
    "    while step > 0:\n",
    "        for i in np.arange(step,len(A)):\n",
    "            while i >= step and A[i] < A[i - step]:\n",
    "                A[i],A[i - step] = A[i - step],A[i]\n",
    "                i -= step\n",
    "        step //= 2\n",
    "    return A\n",
    "\n",
    "A = np.random.randint(0,100,100)\n",
    "print('OriginalArray:\\n',A,'\\n')\n",
    "B = ShellSort(A)\n",
    "print('ShellSort:\\n',B,'\\n')"
   ]
  },
  {
   "cell_type": "code",
   "execution_count": 9,
   "metadata": {},
   "outputs": [
    {
     "name": "stdout",
     "output_type": "stream",
     "text": [
      "OriginalArray:\n",
      " [24 49 65 18 64 41 35 68 24 13 44  0 28 69  3 71 52 92 57 29 13 83 80 20\n",
      " 99 10 84 69  2 52  6 62 94 65 44 24 26 42 12 36 34 76 66 44 79 49 15 58\n",
      " 59 58 80 13 16  6 84 74 70 48 53 33 70 17 91 22 92 16 46 75 27  5 86 70\n",
      " 49  0 38 12 98 49 13 70 30 36 37 18 25 92 27 39 47 20 24 69 60 31 12 46\n",
      " 11 14 67 64] \n",
      "\n",
      "LinkedlistInsertionSort:\n",
      " [ 0  0  2  3  5  6  6 10 11 12 12 12 13 13 13 13 14 15 16 16 17 18 18 20\n",
      " 20 22 24 24 24 24 25 26 27 27 28 29 30 31 33 34 35 36 36 37 38 39 41 42\n",
      " 44 44 44 46 46 47 48 49 49 49 49 52 52 53 57 58 58 59 60 62 64 64 65 65\n",
      " 66 67 68 69 69 69 70 70 70 70 71 74 75 76 79 80 80 83 84 84 86 91 92 92\n",
      " 92 94 98 99] \n",
      "\n"
     ]
    }
   ],
   "source": [
    "class Node:\n",
    "    def __init__(self, data, pnext=None):\n",
    "        self.data = data\n",
    "        self.next = pnext\n",
    "    def __repr__(self):\n",
    "        return self.data\n",
    "    \n",
    "def LinkedlistInsertionSort(A):\n",
    "    head = Node(None,None)\n",
    "    node = Node(A[0])\n",
    "    head.next = node\n",
    "    node.next = head\n",
    "    for i in np.arange(1,len(A)):\n",
    "        node = Node(A[i])\n",
    "        p = head\n",
    "        q = head.next\n",
    "        while(q != head):\n",
    "            if(node.data <= q.data):\n",
    "                node.next = q\n",
    "                p.next = node\n",
    "                break\n",
    "            if(q.next ==  head and node.data > q.data):\n",
    "                node.next = head\n",
    "                q.next = node\n",
    "                break\n",
    "            p = p.next\n",
    "            q = q.next  \n",
    "    p = head.next\n",
    "    for i in np.arange(len(A)):\n",
    "        A[i] = p.data\n",
    "        p = p.next\n",
    "    return A\n",
    "    \n",
    "A = np.random.randint(0,100,100)\n",
    "print('OriginalArray:\\n',A,'\\n')\n",
    "B = LinkedlistInsertionSort(A)\n",
    "print('LinkedlistInsertionSort:\\n',B,'\\n')"
   ]
  }
 ],
 "metadata": {
  "kernelspec": {
   "display_name": "Python 3",
   "language": "python",
   "name": "python3"
  },
  "language_info": {
   "codemirror_mode": {
    "name": "ipython",
    "version": 3
   },
   "file_extension": ".py",
   "mimetype": "text/x-python",
   "name": "python",
   "nbconvert_exporter": "python",
   "pygments_lexer": "ipython3",
   "version": "3.6.6"
  }
 },
 "nbformat": 4,
 "nbformat_minor": 2
}
