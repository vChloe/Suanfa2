{
 "cells": [
  {
   "cell_type": "code",
   "execution_count": 7,
   "metadata": {
    "scrolled": true
   },
   "outputs": [],
   "source": [
    "import numpy as np\n",
    "\n",
    "class Node:\n",
    "    def __init__(self, data, pnext=None):\n",
    "        self.data = data\n",
    "        self.next = pnext\n",
    "    def __repr__(self):\n",
    "        return self.data\n",
    "    \n",
    "def LinkedlistInsertionSort(A):\n",
    "    head = Node(None,None)\n",
    "    node = Node(A[0])\n",
    "    head.next = node\n",
    "    node.next = head\n",
    "    for i in np.arange(1,len(A)):\n",
    "        node = Node(A[i])\n",
    "        p = head\n",
    "        q = head.next\n",
    "        while(q != head):\n",
    "            if(node.data <= q.data):\n",
    "                node.next = q\n",
    "                p.next = node\n",
    "                break\n",
    "            if(q.next ==  head and node.data > q.data):\n",
    "                node.next = head\n",
    "                q.next = node\n",
    "                break\n",
    "            p = p.next\n",
    "            q = q.next  \n",
    "    p = head.next\n",
    "    for i in np.arange(len(A)):\n",
    "        A[i] = p.data\n",
    "        p = p.next\n",
    "    print(A)"
   ]
  },
  {
   "cell_type": "code",
   "execution_count": 79,
   "metadata": {},
   "outputs": [
    {
     "name": "stdout",
     "output_type": "stream",
     "text": [
      "[56  4 74 51 26 73  9 26 63 95 32 68 33 13 45 65  9 52 92 36  0 64 85 10\n",
      " 19 20 36 98 88 43 26 34 94 90  8 15 73 66 74 86 42 83 47 35 41 64 27  2\n",
      " 49 37 21 50 77 92 77  3 75 63 61 66 58 45 56 41  4 90 21  0 83 25  4 31\n",
      " 41 11  3  6  3 16 58 12 89 95 46 86 80 17  7 79 36 60 42 94 29 31 87 53\n",
      " 86 42 20 99]\n",
      "[ 0  0  2  3  3  3  4  4  4  6  7  8  9  9 10 11 12 13 15 16 17 19 20 20\n",
      " 21 21 25 26 26 26 27 29 31 31 32 33 34 35 36 36 36 37 41 41 41 42 42 42\n",
      " 43 45 45 46 47 49 50 51 52 53 56 56 58 58 60 61 63 63 64 64 65 66 66 68\n",
      " 73 73 74 74 75 77 77 79 80 83 83 85 86 86 86 87 88 89 90 90 92 92 94 94\n",
      " 95 95 98 99]\n"
     ]
    }
   ],
   "source": [
    "A = np.random.randint(0,100,100)\n",
    "#A = [8,3,8,1,5,9,8,7,9,10,11,3]\n",
    "print(A)\n"
   ]
  },
  {
   "cell_type": "code",
   "execution_count": null,
   "metadata": {},
   "outputs": [],
   "source": []
  }
 ],
 "metadata": {
  "kernelspec": {
   "display_name": "Python 3",
   "language": "python",
   "name": "python3"
  },
  "language_info": {
   "codemirror_mode": {
    "name": "ipython",
    "version": 3
   },
   "file_extension": ".py",
   "mimetype": "text/x-python",
   "name": "python",
   "nbconvert_exporter": "python",
   "pygments_lexer": "ipython3",
   "version": "3.6.6"
  }
 },
 "nbformat": 4,
 "nbformat_minor": 2
}
