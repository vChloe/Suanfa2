{
 "cells": [
  {
   "cell_type": "code",
   "execution_count": 1,
   "metadata": {},
   "outputs": [],
   "source": [
    "import numpy as np\n",
    "import math"
   ]
  },
  {
   "cell_type": "code",
   "execution_count": 2,
   "metadata": {},
   "outputs": [
    {
     "name": "stdout",
     "output_type": "stream",
     "text": [
      "OriginalArray:\n",
      " [96 61 55 47 34 57 23 92 37 11 50 56 17 48 51 52 73 21  8 12 48  1 50 29\n",
      " 66 14 12 64 57 58 41 30 14 21 41 77 48 38 83 80 71 73  2 37 49 60 29 19\n",
      " 92 58 27  1 30 37  2 74 82 35 95  9 41 86 65 64 91 23 60 58  4 23 92 45\n",
      " 55 18 93 96 42 37 35 82 95 56 24 79 18 28 18 67 35 99 81 58 83 48 52 11\n",
      " 69 74 60 85] \n",
      "\n",
      "QuickSort:\n",
      " [ 1  1  2  2  4  8  9 11 11 12 12 14 14 17 18 18 18 19 21 21 23 23 23 24\n",
      " 27 28 29 29 30 30 34 35 35 35 37 37 37 37 38 41 41 41 42 45 47 48 48 48\n",
      " 48 49 50 50 51 52 52 55 55 56 56 57 57 58 58 58 58 60 60 60 61 64 64 65\n",
      " 66 67 69 71 73 73 74 74 77 79 80 81 82 82 83 83 85 86 91 92 92 92 93 95\n",
      " 95 96 96 99] \n",
      "\n"
     ]
    }
   ],
   "source": [
    "def QuickSort(A,start,end):\n",
    "    if (start < end):\n",
    "        i,j = start,end\n",
    "        key = A[i]\n",
    "        while (i < j):\n",
    "            while (i < j) and (key <= A[j]):\n",
    "                j -= 1\n",
    "            A[i] = A[j]\n",
    "            while (i < j) and (key >= A[i]):\n",
    "                i += 1\n",
    "            A[j] = A[i]\n",
    "        A[i] = key\n",
    "        QuickSort(A,start,i - 1)\n",
    "        QuickSort(A,j + 1,end)\n",
    "    return A\n",
    "A = np.random.randint(0,100,100)\n",
    "print('OriginalArray:\\n',A,'\\n')\n",
    "B = QuickSort(A,0,len(A) - 1)\n",
    "print('QuickSort:\\n',B,'\\n')\n"
   ]
  },
  {
   "cell_type": "code",
   "execution_count": 3,
   "metadata": {
    "scrolled": false
   },
   "outputs": [
    {
     "name": "stdout",
     "output_type": "stream",
     "text": [
      "OriginalArray:\n",
      " [26 54 93 27 19  1 68 65  1 49  4 36 72 41 12 14 86 70  9 25 13 57 26 84\n",
      " 58 61  5  3 45 85 38 13 24 79 41 71 15 56 52 61 56 84 82 91 46 89 10 46\n",
      " 42 59 77 69  4 64 64 17 59 66 89 93 45 88 92 51 10 51 21 63 42 41 12 21\n",
      " 82 47 62 63 31 81 80 51 53 77  0 53 50 93 74 29 39 83 64 23 95 93 74 40\n",
      "  6 17 41 42] \n",
      "\n",
      "BubbleSort:\n",
      " [ 0  1  1  3  4  4  5  6  9 10 10 12 12 13 13 14 15 17 17 19 21 21 23 24\n",
      " 25 26 26 27 29 31 36 38 39 40 41 41 41 41 42 42 42 45 45 46 46 47 49 50\n",
      " 51 51 51 52 53 53 54 56 56 57 58 59 59 61 61 62 63 63 64 64 64 65 66 68\n",
      " 69 70 71 72 74 74 77 77 79 80 81 82 82 83 84 84 85 86 88 89 89 91 92 93\n",
      " 93 93 93 95] \n",
      "\n"
     ]
    }
   ],
   "source": [
    "def BubbleSort(A):\n",
    "    for i in np.arange(len(A) - 1):\n",
    "        for j in np.arange(len(A) - 1 - i):\n",
    "            if(A[j]>A[j + 1]):\n",
    "                A[j],A[j + 1] = A[j + 1],A[j]\n",
    "    return A\n",
    "\n",
    "A = np.random.randint(0,100,100)\n",
    "print('OriginalArray:\\n',A,'\\n')\n",
    "B = BubbleSort(A)\n",
    "print('BubbleSort:\\n',B,'\\n')\n"
   ]
  },
  {
   "cell_type": "code",
   "execution_count": 4,
   "metadata": {},
   "outputs": [
    {
     "name": "stdout",
     "output_type": "stream",
     "text": [
      "OriginalArray:\n",
      " [126  34  21 124  12  39  36  47 125 120  21  14  98  48  15   2 101  35\n",
      " 126  96  94  51  71 118 102  98  20   8  74  77 126 108  73  10  83  62\n",
      " 122  96  15  30 126 108  67  27  64  58 101  59  78  27  53  65  77  28\n",
      "  55  88  93   8  64  55 108  87  17  60  73 101  52  22 127 115 103  48\n",
      "  30  34  99 107  15 124  87  27  42  22  28  18 117  96 108 121  27 124\n",
      "  28 124 108 118  85  73  22  60  31   1   3  61 127  64  21  34  39  14\n",
      "   1  31   5  92  92 103  68  97  81 116  43  10  80 115  60 109 112  98\n",
      "  83  12] \n",
      "\n",
      "BatchSort:\n",
      " [  1   1   2   3   5   8   8  10  10  12  12  14  14  15  15  15  17  18\n",
      "  20  21  21  21  22  22  22  27  27  27  27  28  28  28  30  30  31  31\n",
      "  34  34  34  35  36  39  39  42  43  47  48  48  51  52  53  55  55  58\n",
      "  59  60  60  60  61  62  64  64  64  65  67  68  71  73  73  73  74  77\n",
      "  77  78  80  81  83  83  85  87  87  88  92  92  93  94  96  96  96  97\n",
      "  98  98  98  99 101 101 101 102 103 103 107 108 108 108 108 108 109 112\n",
      " 115 115 116 117 118 118 120 121 122 124 124 124 124 125 126 126 126 126\n",
      " 127 127] \n",
      "\n"
     ]
    }
   ],
   "source": [
    "def BatchSort(A):\n",
    "    N = len(A)\n",
    "    t = math.ceil(math.log2(N))\n",
    "    p = int(math.pow(2,t - 1))\n",
    "    while (p > 0):\n",
    "        q = int(math.pow(2,t - 1))\n",
    "        r = 0\n",
    "        d = p\n",
    "        for i in range(N - d):\n",
    "            if(i & p == r):\n",
    "                if(A[i] >= A[i + d]):\n",
    "                    A[i],A[i + d] = A[i + d],A[i]\n",
    "        while(q != p):\n",
    "            d = q - p\n",
    "            q = q // 2\n",
    "            r = p\n",
    "            for i in range(N - d):\n",
    "                if(i & p == r):\n",
    "                    if(A[i] >= A[i + d]):\n",
    "                        A[i],A[i + d] = A[i + d],A[i]\n",
    "        p = p // 2\n",
    "    return A\n",
    "\n",
    "A = np.random.randint(0,128,128)\n",
    "print('OriginalArray:\\n',A,'\\n')\n",
    "B = BatchSort(A)\n",
    "print('BatchSort:\\n',B,'\\n')\n"
   ]
  }
 ],
 "metadata": {
  "kernelspec": {
   "display_name": "Python 3",
   "language": "python",
   "name": "python3"
  },
  "language_info": {
   "codemirror_mode": {
    "name": "ipython",
    "version": 3
   },
   "file_extension": ".py",
   "mimetype": "text/x-python",
   "name": "python",
   "nbconvert_exporter": "python",
   "pygments_lexer": "ipython3",
   "version": "3.6.6"
  }
 },
 "nbformat": 4,
 "nbformat_minor": 2
}
