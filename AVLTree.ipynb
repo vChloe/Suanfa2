{
 "cells": [
  {
   "cell_type": "code",
   "execution_count": 5,
   "metadata": {},
   "outputs": [
    {
     "name": "stdout",
     "output_type": "stream",
     "text": [
      "None\n",
      "10\n"
     ]
    }
   ],
   "source": [
    "class Node:\n",
    "    def __init__(self):\n",
    "        self.llink = None\n",
    "        self.lheight = 0\n",
    "        self.rlink = None\n",
    "        self.rheight = 0\n",
    "        self.value = None\n",
    "    \n",
    "class AVLTree:\n",
    "    def __init__(self):\n",
    "        self.root = None\n",
    "\n",
    "    def create_tree(self, n = 0, A):\n",
    "        if A == None:\n",
    "            print(\"列表为空\")\n",
    "            return\n",
    "        node = Node()\n",
    "        node.value = l[n]\n",
    "        if self.root == None:\n",
    "            self.root = node\n",
    "            self.list = l"
   ]
  }
 ],
 "metadata": {
  "kernelspec": {
   "display_name": "Python 3",
   "language": "python",
   "name": "python3"
  },
  "language_info": {
   "codemirror_mode": {
    "name": "ipython",
    "version": 3
   },
   "file_extension": ".py",
   "mimetype": "text/x-python",
   "name": "python",
   "nbconvert_exporter": "python",
   "pygments_lexer": "ipython3",
   "version": "3.6.6"
  }
 },
 "nbformat": 4,
 "nbformat_minor": 2
}
