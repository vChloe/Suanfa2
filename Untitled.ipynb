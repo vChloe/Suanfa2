{
 "cells": [
  {
   "cell_type": "code",
   "execution_count": 6,
   "metadata": {},
   "outputs": [
    {
     "name": "stdout",
     "output_type": "stream",
     "text": [
      "OriginalArray:\n",
      " [9 8 6 0 4 9 3 6 9 2] \n",
      "\n",
      "ShellSort:\n",
      " [0 2 3 4 6 6 8 9 9 9] \n",
      "\n"
     ]
    }
   ],
   "source": [
    "import numpy as np\n",
    "def ShellSort(A):\n",
    "    step = len(A) // 2\n",
    "    while step > 0:\n",
    "        for i in np.arange(step,len(A)):\n",
    "            while i >= step and A[i] < A[i - step]:\n",
    "                A[i],A[i - step] = A[i - step],A[i]\n",
    "                i -= step\n",
    "        step //= 2\n",
    "    return A\n",
    "\n",
    "A = np.random.randint(0,10,10)\n",
    "print('OriginalArray:\\n',A,'\\n')\n",
    "B = ShellSort(A)\n",
    "print('ShellSort:\\n',B,'\\n')"
   ]
  }
 ],
 "metadata": {
  "kernelspec": {
   "display_name": "Python 3",
   "language": "python",
   "name": "python3"
  },
  "language_info": {
   "codemirror_mode": {
    "name": "ipython",
    "version": 3
   },
   "file_extension": ".py",
   "mimetype": "text/x-python",
   "name": "python",
   "nbconvert_exporter": "python",
   "pygments_lexer": "ipython3",
   "version": "3.6.6"
  }
 },
 "nbformat": 4,
 "nbformat_minor": 2
}
