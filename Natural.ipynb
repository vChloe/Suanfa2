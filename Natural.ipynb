{
 "cells": [
  {
   "cell_type": "code",
   "execution_count": 26,
   "metadata": {},
   "outputs": [
    {
     "name": "stdout",
     "output_type": "stream",
     "text": [
      "OriginalArray:\n",
      " [503, 87, 512, 61, 908, 170, 897, 275, 653, 426, 154, 509, 612, 677, 765, 703] \n",
      "\n",
      "\n",
      "\n",
      "NaturalTwoWayMergeSort:\n",
      " [61, 87, 154, 170, 275, 426, 503, 509, 512, 612, 653, 677, 703, 765, 897, 908] \n",
      "\n"
     ]
    }
   ],
   "source": [
    "def Natural(A):\n",
    "    N = len(A)\n",
    "    B = N*[None]\n",
    "    f = 0\n",
    "    while f == 0:\n",
    "        i = 0\n",
    "        k = 0\n",
    "        j = N - 1\n",
    "        l = N - 1\n",
    "        B = N*[None]\n",
    "        d = 1\n",
    "        f = 1\n",
    "        while True:\n",
    "            if A[i] > A[j]:\n",
    "                B[k] = A[j]\n",
    "                k += d\n",
    "                j -= 1\n",
    "                if A[j+1] <= A[j]:\n",
    "                    continue\n",
    "                else:\n",
    "                    while B[k-d] <= A[i]:\n",
    "                        B[k] = A[i]\n",
    "                        k += d\n",
    "                        i += 1\n",
    "                f = 0\n",
    "                d = -d\n",
    "                k,l = l,k\n",
    "            elif i != j and A[i] <= A[j]:\n",
    "                B[k] = A[i]\n",
    "                k += d\n",
    "                i += 1\n",
    "                if A[i-1] <= A[i]:                        \n",
    "                    continue\n",
    "                else:\n",
    "                    while B[k-d] <= A[j]:\n",
    "                        B[k] = A[j]\n",
    "                        k += d\n",
    "                        j -= 1\n",
    "                f = 0\n",
    "                d = -d\n",
    "                k,l = l,k\n",
    "            elif i == j:\n",
    "                B[k] = A[i]\n",
    "                if f == 0:\n",
    "                    A = B\n",
    "                    break\n",
    "            if f == 1:\n",
    "                break   \n",
    "    return B\n",
    "\n",
    "A = [503,87,512,61,908,170,897,275,653,426,154,509,612,677,765,703]\n",
    "print('OriginalArray:\\n',A,'\\n')\n",
    "B = Natural(A)\n",
    "print('\\n\\nNaturalTwoWayMergeSort:\\n',B,'\\n')  "
   ]
  }
 ],
 "metadata": {
  "kernelspec": {
   "display_name": "Python 3",
   "language": "python",
   "name": "python3"
  },
  "language_info": {
   "codemirror_mode": {
    "name": "ipython",
    "version": 3
   },
   "file_extension": ".py",
   "mimetype": "text/x-python",
   "name": "python",
   "nbconvert_exporter": "python",
   "pygments_lexer": "ipython3",
   "version": "3.6.6"
  }
 },
 "nbformat": 4,
 "nbformat_minor": 2
}
