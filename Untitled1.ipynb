{
 "cells": [
  {
   "cell_type": "code",
   "execution_count": 1,
   "metadata": {},
   "outputs": [],
   "source": [
    "import numpy as np\n",
    "import math"
   ]
  },
  {
   "cell_type": "code",
   "execution_count": 45,
   "metadata": {},
   "outputs": [
    {
     "name": "stdout",
     "output_type": "stream",
     "text": [
      "OriginalArray:\n",
      " [100  89  76  83  40 104 110  34  59  74  32  87  50  67  19  27 123  51\n",
      "  98  53  92  32   6  96  79  14  79  66 100  66  24  86   4   7  37  54\n",
      "  25  65 111  90  20 109 109  54  76  14 106  32  62  99 106 105  14  85\n",
      " 116  50 126  14  15 107  56 123  88  52  65  72  35  76  20  94  63  20\n",
      "  69  30 121   5   2  11   8  73  27  10 100  98  48  53  68  48 110 120\n",
      " 103  73  56 102 126  90  59 105   0  67  25  16  41 117  59  96  86  22\n",
      "  76 120  59 124  90   8  99  84  49  62 125  59   4 111  58  76  24  46\n",
      " 117  97] \n",
      "\n",
      "BatchSort:\n",
      " [  0   2   4   4   5   6   7   8   8  10  11  14  14  14  14  15  16  19\n",
      "  20  20  20  22  24  24  25  25  27  27  30  32  32  32  34  35  37  40\n",
      "  41  46  48  48  49  50  50  51  52  53  53  54  54  56  56  58  59  59\n",
      "  59  59  59  62  62  63  65  65  66  66  67  67  68  69  72  73  73  74\n",
      "  76  76  76  76  76  79  79  83  84  85  86  86  87  88  89  90  90  90\n",
      "  92  94  96  96  97  98  98  99  99 100 100 100 102 103 104 105 105 106\n",
      " 106 107 109 109 110 110 111 111 116 117 117 120 120 121 123 123 124 125\n",
      " 126 126] \n",
      "\n"
     ]
    }
   ],
   "source": [
    "def BatchSort(A):\n",
    "    N = len(A)\n",
    "    t = math.ceil(math.log2(N))\n",
    "    p = int(math.pow(2,t - 1))\n",
    "    while (p > 0):\n",
    "        q = int(math.pow(2,t - 1))\n",
    "        r = 0\n",
    "        d = p\n",
    "        for i in range(N - d):\n",
    "            if(i & p == r):\n",
    "                if(A[i] >= A[i + d]):\n",
    "                    A[i],A[i + d] = A[i + d],A[i]\n",
    "        while(q != p):\n",
    "            d = q - p\n",
    "            q = q // 2\n",
    "            r = p\n",
    "            for i in range(N - d):\n",
    "                if(i & p == r):\n",
    "                    if(A[i] >= A[i + d]):\n",
    "                        A[i],A[i + d] = A[i + d],A[i]\n",
    "        p = p // 2\n",
    "    return A\n",
    "#A = [ 9,6,12,1,0,15,3,2,0,13,8,12,15,15,6,0] \n",
    "A = np.random.randint(0,128,128)\n",
    "print('OriginalArray:\\n',A,'\\n')\n",
    "B = BatchSort(A)\n",
    "print('BatchSort:\\n',B,'\\n')"
   ]
  },
  {
   "cell_type": "code",
   "execution_count": null,
   "metadata": {},
   "outputs": [],
   "source": []
  }
 ],
 "metadata": {
  "kernelspec": {
   "display_name": "Python 3",
   "language": "python",
   "name": "python3"
  },
  "language_info": {
   "codemirror_mode": {
    "name": "ipython",
    "version": 3
   },
   "file_extension": ".py",
   "mimetype": "text/x-python",
   "name": "python",
   "nbconvert_exporter": "python",
   "pygments_lexer": "ipython3",
   "version": "3.6.6"
  }
 },
 "nbformat": 4,
 "nbformat_minor": 2
}
