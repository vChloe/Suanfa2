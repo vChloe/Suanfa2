{
 "cells": [
  {
   "cell_type": "code",
   "execution_count": 1,
   "metadata": {},
   "outputs": [],
   "source": [
    "import numpy as np"
   ]
  },
  {
   "cell_type": "code",
   "execution_count": 2,
   "metadata": {
    "scrolled": true
   },
   "outputs": [
    {
     "name": "stdout",
     "output_type": "stream",
     "text": [
      "OriginalArray:\n",
      " [12  5 22 98 78 90 58 58 53 99 27 71 69 40 41 60 85 47 18 99 50 74  8 62\n",
      " 47 80 65  0 83 58 18 71 89 66 17 11 38 12 67 98  3 96 82 13 79 88 78 94\n",
      " 42 10  6  7 93 67 63 94 14 78 57 17 93 98 22 55 23 57 95 68 41 38 49 33\n",
      " 20 16 43  1 91 97 50  1 24 94  8 91 46 39 82  6 20 39 98 57 79 75 26 86\n",
      " 64 18  1 64] \n",
      "\n",
      "SelectSort:\n",
      " [ 0  1  1  1  3  5  6  6  7  8  8 10 11 12 12 13 14 16 17 17 18 18 18 20\n",
      " 20 22 22 23 24 26 27 33 38 38 39 39 40 41 41 42 43 46 47 47 49 50 50 53\n",
      " 55 57 57 57 58 58 58 60 62 63 64 64 65 66 67 67 68 69 71 71 74 75 78 78\n",
      " 78 79 79 80 82 82 83 85 86 88 89 90 91 91 93 93 94 94 94 95 96 97 98 98\n",
      " 98 98 99 99] \n",
      "\n"
     ]
    }
   ],
   "source": [
    "def SelectSort(A):\n",
    "    for i in np.arange(0,len(A) - 1):\n",
    "        s = i\n",
    "        for j in np.arange(i + 1,len(A)):\n",
    "            if A[j] < A[s]:\n",
    "                A[j],A[s] = A[s],A[j]\n",
    "    return A\n",
    "\n",
    "A = np.random.randint(0,100,100)\n",
    "print('OriginalArray:\\n',A,'\\n')\n",
    "B = SelectSort(A)\n",
    "print('SelectSort:\\n',B,'\\n')"
   ]
  },
  {
   "cell_type": "code",
   "execution_count": 3,
   "metadata": {},
   "outputs": [
    {
     "name": "stdout",
     "output_type": "stream",
     "text": [
      "OriginalArray:\n",
      " [22 99  1 93 79 29  2 35 92 93 88 94 87 25 24 24 88 37 61 38 78 97 99 15\n",
      " 38  1 56 32  0 11 65 21 75 19 99 56 13 43 20 73 14 19 82 26 33 79 97 45\n",
      " 39 25 86 87 20 96 12 37 66 86 70 65 17 82 83 33 18 60 70  9 58 48 24 63\n",
      " 69 17 53 82 79  0  9 99 70 13 13 59 53 88 60 20 17  1 15  4 13 82 84 11\n",
      " 81 24 89 68] \n",
      "\n",
      "MergeSort:\n",
      " [ 0  0  1  1  1  2  4  9  9 11 11 12 13 13 13 13 14 15 15 17 17 17 18 19\n",
      " 19 20 20 20 21 22 24 24 24 24 25 25 26 29 32 33 33 35 37 37 38 38 39 43\n",
      " 45 48 53 53 56 56 58 59 60 60 61 63 65 65 66 68 69 70 70 70 73 75 78 79\n",
      " 79 79 81 82 82 82 82 83 84 86 86 87 87 88 88 88 89 92 93 93 94 96 97 97\n",
      " 99 99 99 99] \n",
      "\n"
     ]
    }
   ],
   "source": [
    "def Merge(A,low,mid,high):\n",
    "    n1 = mid - low + 1\n",
    "    n2 = high - mid\n",
    "    left = [None] * n1\n",
    "    right = [None] * n2\n",
    "    for i in np.arange(0,n1):\n",
    "        left[i] = A[i + low]\n",
    "    for j in np.arange(0,n2):\n",
    "        right[j] = A[j + mid + 1]\n",
    "    \n",
    "    i,j = 0,0\n",
    "    k = low\n",
    "    while i != n1 and j != n2:\n",
    "        if left[i] <= right[j]:\n",
    "            A[k] = left[i]\n",
    "            k += 1\n",
    "            i += 1\n",
    "        else:\n",
    "            A[k] = right[j]\n",
    "            k += 1\n",
    "            j += 1\n",
    "    \n",
    "    while i < n1:\n",
    "        A[k] = left[i]\n",
    "        k += 1\n",
    "        i += 1\n",
    "    while j < n2:\n",
    "        A[k] = right[j]\n",
    "        k += 1\n",
    "        j += 1\n",
    "\n",
    "def MergeSort(A,p,q):\n",
    "    if p < q:\n",
    "        mid = (p + q) // 2\n",
    "        MergeSort(A,p,mid)\n",
    "        MergeSort(A,mid + 1,q)\n",
    "        Merge(A,p,mid,q)\n",
    "    return A\n",
    "\n",
    "A = np.random.randint(0,100,100)\n",
    "print('OriginalArray:\\n',A,'\\n')\n",
    "B = MergeSort(A,0,len(A) - 1)\n",
    "print('MergeSort:\\n',B,'\\n')"
   ]
  },
  {
   "cell_type": "code",
   "execution_count": 4,
   "metadata": {
    "scrolled": true
   },
   "outputs": [
    {
     "name": "stdout",
     "output_type": "stream",
     "text": [
      "OriginalArray:\n",
      " [93 36 51  8 92 50 81 73 22  5 68 21 36 55 68 70 45  4 78 14 52 37 31  2\n",
      " 66 47  0 35  4 18 99 95 12 47 25 20 76 57 37 47 27  7 18  1  2  6 35 73\n",
      " 16 59 84 80 83 13  1 49 33 26 68 53 85 81 59  3 76  8 67 11 95 49 60 38\n",
      " 87 99 11 53 22 41 99 53 38 64 14 50 98 69 34 52 27 30 76 60 19 11  4  7\n",
      " 14 72 80 48] \n",
      "\n",
      "HeapSort:\n",
      " [ 0  1  1  2  2  3  4  4  4  5  6  7  7  8  8 11 11 11 12 13 14 14 14 16\n",
      " 18 18 19 20 21 22 22 25 26 27 27 30 31 33 34 35 35 36 36 37 37 38 38 41\n",
      " 45 47 47 47 48 49 49 50 50 51 52 52 53 53 53 55 57 59 59 60 60 64 66 67\n",
      " 68 68 68 69 70 72 73 73 76 76 76 78 80 80 81 81 83 84 85 87 92 93 95 95\n",
      " 98 99 99 99] \n",
      "\n"
     ]
    }
   ],
   "source": [
    "def AdjustHeap(A,i,n):\n",
    "    j = 2*i + 1\n",
    "    Val = A[i]\n",
    "    while j < n:\n",
    "        if j+1 < n and A[j+1] > A[j] :\n",
    "            j += 1\n",
    "        if A[j] <= Val:\n",
    "            break\n",
    "        A[i],A[j] = A[j],A[i]\n",
    "        i = j\n",
    "        j = 2*i + 1\n",
    "\n",
    "def BuildHeap(A):\n",
    "    for i in np.arange(len(A)//2,-1,-1):\n",
    "        AdjustHeap(A,i,len(A))\n",
    "        \n",
    "def HeapSort(A):\n",
    "    BuildHeap(A)\n",
    "    for i in np.arange(len(A)-1,0,-1):\n",
    "        A[i],A[0] = A[0],A[i]\n",
    "        AdjustHeap(A,0,i)\n",
    "    return A\n",
    " \n",
    "A = np.random.randint(0,100,100)\n",
    "print('OriginalArray:\\n',A,'\\n')\n",
    "B = HeapSort(A)\n",
    "print('HeapSort:\\n',B,'\\n')     "
   ]
  },
  {
   "cell_type": "code",
   "execution_count": 23,
   "metadata": {},
   "outputs": [
    {
     "name": "stdout",
     "output_type": "stream",
     "text": [
      "OriginalArray:\n",
      " [66 68  8  4 90 52  0 71  8 81 20 82 71 84  3 19  9 31 52 95 71 85 58 29\n",
      " 17 63 76  9 53 92 86 42 29 17 96 94 89 20 79 90 23 82 30 44 18 16 38 54\n",
      " 32 83 13  3 57 15 32 90 13 38 60 53 25  2 53 61 46 45 63 38 58 78 75 78\n",
      " 34 35 33  7 39 44 18 60 66 46 76 58 49 88 52 88 43 37 96  8 59 57 33 92\n",
      " 55 32 88 90]\n",
      "NaturalTwoWayMergeSort:\n",
      " [0, 2, 3, 3, 4, 7, 8, 8, 8, 9, 9, 13, 13, 15, 16, 17, 17, 18, 18, 19, 20, 20, 23, 25, 29, 29, 30, 31, 32, 32, 32, 33, 33, 34, 35, 37, 38, 38, 38, 39, 42, 43, 44, 44, 45, 46, 46, 49, 52, 52, 52, 53, 53, 53, 54, 55, 57, 57, 58, 58, 58, 59, 60, 60, 61, 63, 63, 66, 66, 68, 71, 71, 71, 75, 76, 76, 78, 78, 79, 81, 82, 82, 83, 84, 85, 86, 88, 88, 88, 89, 90, 90, 90, 90, 92, 92, 94, 95, 96, 96]\n"
     ]
    }
   ],
   "source": [
    "def NaturalTwoWayMergeSort(A):\n",
    "    N = len(A)\n",
    "    B = N*[None]\n",
    "    f = 0\n",
    "    while f == 0:\n",
    "        i = 0\n",
    "        k = 0\n",
    "        j = N - 1\n",
    "        l = N - 1\n",
    "        B = N*[None]\n",
    "        d = 1\n",
    "        f = 1\n",
    "        while True:\n",
    "            if A[i] > A[j]:\n",
    "                B[k] = A[j]\n",
    "                k += d\n",
    "                j -= 1\n",
    "                if A[j+1] <= A[j]:\n",
    "                    continue\n",
    "                else:\n",
    "                    while B[k-d] <= A[i]:\n",
    "                        B[k] = A[i]\n",
    "                        k += d\n",
    "                        i += 1\n",
    "                f = 0\n",
    "                d = -d\n",
    "                k,l = l,k\n",
    "            elif i != j and A[i] <= A[j]:\n",
    "                B[k] = A[i]\n",
    "                k += d\n",
    "                i += 1\n",
    "                if A[i-1] <= A[i]:                        \n",
    "                    continue\n",
    "                else:\n",
    "                    while B[k-d] <= A[j]:\n",
    "                        B[k] = A[j]\n",
    "                        k += d\n",
    "                        j -= 1\n",
    "                f = 0\n",
    "                d = -d\n",
    "                k,l = l,k\n",
    "            elif i == j:\n",
    "                B[k] = A[i]\n",
    "                if f == 0:\n",
    "                    A = B\n",
    "                    break\n",
    "            if f == 1:\n",
    "                break   \n",
    "    return B\n",
    "\n",
    "#A = [503,87,512,61,908,170,897,275,653,426,154,509,612,677,765,703]\n",
    "A = np.random.randint(0,100,100)\n",
    "print('OriginalArray:\\n',A)\n",
    "B = NaturalTwoWayMergeSort(A)\n",
    "print('NaturalTwoWayMergeSort:\\n',B)  "
   ]
  }
 ],
 "metadata": {
  "kernelspec": {
   "display_name": "Python 3",
   "language": "python",
   "name": "python3"
  },
  "language_info": {
   "codemirror_mode": {
    "name": "ipython",
    "version": 3
   },
   "file_extension": ".py",
   "mimetype": "text/x-python",
   "name": "python",
   "nbconvert_exporter": "python",
   "pygments_lexer": "ipython3",
   "version": "3.6.6"
  }
 },
 "nbformat": 4,
 "nbformat_minor": 2
}
